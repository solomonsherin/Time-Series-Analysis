{
 "cells": [
  {
   "cell_type": "code",
   "execution_count": 1,
   "metadata": {},
   "outputs": [],
   "source": [
    "import numpy as np\n",
    "import pandas as pd\n",
    "from pathlib import Path\n",
    "%matplotlib inline"
   ]
  },
  {
   "cell_type": "markdown",
   "metadata": {},
   "source": [
    "# Regression Analysis: Seasonal Effects with Sklearn Linear Regression\n",
    "In this notebook, you will build a SKLearn linear regression model to predict Yen futures (\"settle\") returns with *lagged* CAD/JPY exchange rate returns. "
   ]
  },
  {
   "cell_type": "code",
   "execution_count": 2,
   "metadata": {},
   "outputs": [
    {
     "data": {
      "text/html": [
       "<div>\n",
       "<style scoped>\n",
       "    .dataframe tbody tr th:only-of-type {\n",
       "        vertical-align: middle;\n",
       "    }\n",
       "\n",
       "    .dataframe tbody tr th {\n",
       "        vertical-align: top;\n",
       "    }\n",
       "\n",
       "    .dataframe thead th {\n",
       "        text-align: right;\n",
       "    }\n",
       "</style>\n",
       "<table border=\"1\" class=\"dataframe\">\n",
       "  <thead>\n",
       "    <tr style=\"text-align: right;\">\n",
       "      <th></th>\n",
       "      <th>Price</th>\n",
       "      <th>Open</th>\n",
       "      <th>High</th>\n",
       "      <th>Low</th>\n",
       "    </tr>\n",
       "    <tr>\n",
       "      <th>Date</th>\n",
       "      <th></th>\n",
       "      <th></th>\n",
       "      <th></th>\n",
       "      <th></th>\n",
       "    </tr>\n",
       "  </thead>\n",
       "  <tbody>\n",
       "    <tr>\n",
       "      <th>1982-01-05</th>\n",
       "      <td>184.65</td>\n",
       "      <td>184.65</td>\n",
       "      <td>184.65</td>\n",
       "      <td>184.65</td>\n",
       "    </tr>\n",
       "    <tr>\n",
       "      <th>1982-01-06</th>\n",
       "      <td>185.06</td>\n",
       "      <td>185.06</td>\n",
       "      <td>185.06</td>\n",
       "      <td>185.06</td>\n",
       "    </tr>\n",
       "    <tr>\n",
       "      <th>1982-01-07</th>\n",
       "      <td>186.88</td>\n",
       "      <td>186.88</td>\n",
       "      <td>186.88</td>\n",
       "      <td>186.88</td>\n",
       "    </tr>\n",
       "    <tr>\n",
       "      <th>1982-01-08</th>\n",
       "      <td>186.58</td>\n",
       "      <td>186.58</td>\n",
       "      <td>186.58</td>\n",
       "      <td>186.58</td>\n",
       "    </tr>\n",
       "    <tr>\n",
       "      <th>1982-01-11</th>\n",
       "      <td>187.64</td>\n",
       "      <td>187.64</td>\n",
       "      <td>187.64</td>\n",
       "      <td>187.64</td>\n",
       "    </tr>\n",
       "  </tbody>\n",
       "</table>\n",
       "</div>"
      ],
      "text/plain": [
       "             Price    Open    High     Low\n",
       "Date                                      \n",
       "1982-01-05  184.65  184.65  184.65  184.65\n",
       "1982-01-06  185.06  185.06  185.06  185.06\n",
       "1982-01-07  186.88  186.88  186.88  186.88\n",
       "1982-01-08  186.58  186.58  186.58  186.58\n",
       "1982-01-11  187.64  187.64  187.64  187.64"
      ]
     },
     "execution_count": 2,
     "metadata": {},
     "output_type": "execute_result"
    }
   ],
   "source": [
    "# Currency pair exchange rates for CAD/JPY\n",
    "cad_jpy_df = pd.read_csv(\n",
    "    Path(\"cad_jpy.csv\"), index_col=\"Date\", infer_datetime_format=True, parse_dates=True\n",
    ")\n",
    "cad_jpy_df.head()"
   ]
  },
  {
   "cell_type": "code",
   "execution_count": 3,
   "metadata": {},
   "outputs": [
    {
     "data": {
      "text/html": [
       "<div>\n",
       "<style scoped>\n",
       "    .dataframe tbody tr th:only-of-type {\n",
       "        vertical-align: middle;\n",
       "    }\n",
       "\n",
       "    .dataframe tbody tr th {\n",
       "        vertical-align: top;\n",
       "    }\n",
       "\n",
       "    .dataframe thead th {\n",
       "        text-align: right;\n",
       "    }\n",
       "</style>\n",
       "<table border=\"1\" class=\"dataframe\">\n",
       "  <thead>\n",
       "    <tr style=\"text-align: right;\">\n",
       "      <th></th>\n",
       "      <th>Price</th>\n",
       "      <th>Open</th>\n",
       "      <th>High</th>\n",
       "      <th>Low</th>\n",
       "    </tr>\n",
       "    <tr>\n",
       "      <th>Date</th>\n",
       "      <th></th>\n",
       "      <th></th>\n",
       "      <th></th>\n",
       "      <th></th>\n",
       "    </tr>\n",
       "  </thead>\n",
       "  <tbody>\n",
       "    <tr>\n",
       "      <th>1990-01-02</th>\n",
       "      <td>126.37</td>\n",
       "      <td>126.31</td>\n",
       "      <td>126.37</td>\n",
       "      <td>126.31</td>\n",
       "    </tr>\n",
       "    <tr>\n",
       "      <th>1990-01-03</th>\n",
       "      <td>125.30</td>\n",
       "      <td>125.24</td>\n",
       "      <td>125.30</td>\n",
       "      <td>125.24</td>\n",
       "    </tr>\n",
       "    <tr>\n",
       "      <th>1990-01-04</th>\n",
       "      <td>123.46</td>\n",
       "      <td>123.41</td>\n",
       "      <td>123.46</td>\n",
       "      <td>123.41</td>\n",
       "    </tr>\n",
       "    <tr>\n",
       "      <th>1990-01-05</th>\n",
       "      <td>124.54</td>\n",
       "      <td>124.48</td>\n",
       "      <td>124.54</td>\n",
       "      <td>124.48</td>\n",
       "    </tr>\n",
       "    <tr>\n",
       "      <th>1990-01-08</th>\n",
       "      <td>124.27</td>\n",
       "      <td>124.21</td>\n",
       "      <td>124.27</td>\n",
       "      <td>124.21</td>\n",
       "    </tr>\n",
       "  </tbody>\n",
       "</table>\n",
       "</div>"
      ],
      "text/plain": [
       "             Price    Open    High     Low\n",
       "Date                                      \n",
       "1990-01-02  126.37  126.31  126.37  126.31\n",
       "1990-01-03  125.30  125.24  125.30  125.24\n",
       "1990-01-04  123.46  123.41  123.46  123.41\n",
       "1990-01-05  124.54  124.48  124.54  124.48\n",
       "1990-01-08  124.27  124.21  124.27  124.21"
      ]
     },
     "execution_count": 3,
     "metadata": {},
     "output_type": "execute_result"
    }
   ],
   "source": [
    "# Trim the dataset to begin on January 1st, 1990\n",
    "cad_jpy_df = cad_jpy_df.loc[\"1990-01-01\":, :]\n",
    "cad_jpy_df.head()"
   ]
  },
  {
   "cell_type": "markdown",
   "metadata": {},
   "source": [
    "# Data Preparation"
   ]
  },
  {
   "cell_type": "markdown",
   "metadata": {},
   "source": [
    "### Returns"
   ]
  },
  {
   "cell_type": "code",
   "execution_count": 4,
   "metadata": {},
   "outputs": [
    {
     "data": {
      "text/html": [
       "<div>\n",
       "<style scoped>\n",
       "    .dataframe tbody tr th:only-of-type {\n",
       "        vertical-align: middle;\n",
       "    }\n",
       "\n",
       "    .dataframe tbody tr th {\n",
       "        vertical-align: top;\n",
       "    }\n",
       "\n",
       "    .dataframe thead th {\n",
       "        text-align: right;\n",
       "    }\n",
       "</style>\n",
       "<table border=\"1\" class=\"dataframe\">\n",
       "  <thead>\n",
       "    <tr style=\"text-align: right;\">\n",
       "      <th></th>\n",
       "      <th>Price</th>\n",
       "      <th>Open</th>\n",
       "      <th>High</th>\n",
       "      <th>Low</th>\n",
       "      <th>Return</th>\n",
       "    </tr>\n",
       "    <tr>\n",
       "      <th>Date</th>\n",
       "      <th></th>\n",
       "      <th></th>\n",
       "      <th></th>\n",
       "      <th></th>\n",
       "      <th></th>\n",
       "    </tr>\n",
       "  </thead>\n",
       "  <tbody>\n",
       "    <tr>\n",
       "      <th>2020-05-29</th>\n",
       "      <td>78.29</td>\n",
       "      <td>78.21</td>\n",
       "      <td>78.41</td>\n",
       "      <td>77.75</td>\n",
       "      <td>0.076697</td>\n",
       "    </tr>\n",
       "    <tr>\n",
       "      <th>2020-06-01</th>\n",
       "      <td>79.27</td>\n",
       "      <td>78.21</td>\n",
       "      <td>79.36</td>\n",
       "      <td>78.04</td>\n",
       "      <td>1.251756</td>\n",
       "    </tr>\n",
       "    <tr>\n",
       "      <th>2020-06-02</th>\n",
       "      <td>80.40</td>\n",
       "      <td>79.26</td>\n",
       "      <td>80.56</td>\n",
       "      <td>79.15</td>\n",
       "      <td>1.425508</td>\n",
       "    </tr>\n",
       "    <tr>\n",
       "      <th>2020-06-03</th>\n",
       "      <td>80.70</td>\n",
       "      <td>80.40</td>\n",
       "      <td>80.82</td>\n",
       "      <td>79.96</td>\n",
       "      <td>0.373134</td>\n",
       "    </tr>\n",
       "    <tr>\n",
       "      <th>2020-06-04</th>\n",
       "      <td>80.71</td>\n",
       "      <td>80.80</td>\n",
       "      <td>80.89</td>\n",
       "      <td>80.51</td>\n",
       "      <td>0.012392</td>\n",
       "    </tr>\n",
       "  </tbody>\n",
       "</table>\n",
       "</div>"
      ],
      "text/plain": [
       "            Price   Open   High    Low    Return\n",
       "Date                                            \n",
       "2020-05-29  78.29  78.21  78.41  77.75  0.076697\n",
       "2020-06-01  79.27  78.21  79.36  78.04  1.251756\n",
       "2020-06-02  80.40  79.26  80.56  79.15  1.425508\n",
       "2020-06-03  80.70  80.40  80.82  79.96  0.373134\n",
       "2020-06-04  80.71  80.80  80.89  80.51  0.012392"
      ]
     },
     "execution_count": 4,
     "metadata": {},
     "output_type": "execute_result"
    }
   ],
   "source": [
    "# Create a series using \"Price\" percentage returns, drop any nan\"s, and check the results:\n",
    "returns = (cad_jpy_df[[\"Price\"]].pct_change() * 100)\n",
    "returns = returns.replace(-np.inf, np.nan).dropna()\n",
    "\n",
    "cad_jpy_df[\"Return\"] = returns\n",
    "\n",
    "cad_jpy_df.tail()"
   ]
  },
  {
   "cell_type": "markdown",
   "metadata": {},
   "source": [
    "### Lagged Returns "
   ]
  },
  {
   "cell_type": "code",
   "execution_count": 5,
   "metadata": {},
   "outputs": [
    {
     "data": {
      "text/html": [
       "<div>\n",
       "<style scoped>\n",
       "    .dataframe tbody tr th:only-of-type {\n",
       "        vertical-align: middle;\n",
       "    }\n",
       "\n",
       "    .dataframe tbody tr th {\n",
       "        vertical-align: top;\n",
       "    }\n",
       "\n",
       "    .dataframe thead th {\n",
       "        text-align: right;\n",
       "    }\n",
       "</style>\n",
       "<table border=\"1\" class=\"dataframe\">\n",
       "  <thead>\n",
       "    <tr style=\"text-align: right;\">\n",
       "      <th></th>\n",
       "      <th>Price</th>\n",
       "      <th>Open</th>\n",
       "      <th>High</th>\n",
       "      <th>Low</th>\n",
       "      <th>Return</th>\n",
       "      <th>Lagged_Return</th>\n",
       "    </tr>\n",
       "    <tr>\n",
       "      <th>Date</th>\n",
       "      <th></th>\n",
       "      <th></th>\n",
       "      <th></th>\n",
       "      <th></th>\n",
       "      <th></th>\n",
       "      <th></th>\n",
       "    </tr>\n",
       "  </thead>\n",
       "  <tbody>\n",
       "    <tr>\n",
       "      <th>2020-05-29</th>\n",
       "      <td>78.29</td>\n",
       "      <td>78.21</td>\n",
       "      <td>78.41</td>\n",
       "      <td>77.75</td>\n",
       "      <td>0.076697</td>\n",
       "      <td>-0.114913</td>\n",
       "    </tr>\n",
       "    <tr>\n",
       "      <th>2020-06-01</th>\n",
       "      <td>79.27</td>\n",
       "      <td>78.21</td>\n",
       "      <td>79.36</td>\n",
       "      <td>78.04</td>\n",
       "      <td>1.251756</td>\n",
       "      <td>0.076697</td>\n",
       "    </tr>\n",
       "    <tr>\n",
       "      <th>2020-06-02</th>\n",
       "      <td>80.40</td>\n",
       "      <td>79.26</td>\n",
       "      <td>80.56</td>\n",
       "      <td>79.15</td>\n",
       "      <td>1.425508</td>\n",
       "      <td>1.251756</td>\n",
       "    </tr>\n",
       "    <tr>\n",
       "      <th>2020-06-03</th>\n",
       "      <td>80.70</td>\n",
       "      <td>80.40</td>\n",
       "      <td>80.82</td>\n",
       "      <td>79.96</td>\n",
       "      <td>0.373134</td>\n",
       "      <td>1.425508</td>\n",
       "    </tr>\n",
       "    <tr>\n",
       "      <th>2020-06-04</th>\n",
       "      <td>80.71</td>\n",
       "      <td>80.80</td>\n",
       "      <td>80.89</td>\n",
       "      <td>80.51</td>\n",
       "      <td>0.012392</td>\n",
       "      <td>0.373134</td>\n",
       "    </tr>\n",
       "  </tbody>\n",
       "</table>\n",
       "</div>"
      ],
      "text/plain": [
       "            Price   Open   High    Low    Return  Lagged_Return\n",
       "Date                                                           \n",
       "2020-05-29  78.29  78.21  78.41  77.75  0.076697      -0.114913\n",
       "2020-06-01  79.27  78.21  79.36  78.04  1.251756       0.076697\n",
       "2020-06-02  80.40  79.26  80.56  79.15  1.425508       1.251756\n",
       "2020-06-03  80.70  80.40  80.82  79.96  0.373134       1.425508\n",
       "2020-06-04  80.71  80.80  80.89  80.51  0.012392       0.373134"
      ]
     },
     "execution_count": 5,
     "metadata": {},
     "output_type": "execute_result"
    }
   ],
   "source": [
    "# Create a lagged return using the shift function\n",
    "cad_jpy_df['Lagged_Return'] = cad_jpy_df['Return'].shift() \n",
    "cad_jpy_df.dropna(inplace=True)\n",
    "cad_jpy_df.tail()"
   ]
  },
  {
   "cell_type": "markdown",
   "metadata": {},
   "source": [
    "### Train Test Split"
   ]
  },
  {
   "cell_type": "code",
   "execution_count": 6,
   "metadata": {},
   "outputs": [],
   "source": [
    "# Create a train/test split for the data using 2018-2019 for testing and the rest for training\n",
    "train = cad_jpy_df[:'2017']\n",
    "test = cad_jpy_df['2018':]"
   ]
  },
  {
   "cell_type": "code",
   "execution_count": 7,
   "metadata": {},
   "outputs": [],
   "source": [
    "# Create four dataframes:\n",
    "# X_train (training set using just the independent variables), X_test (test set of of just the independent variables)\n",
    "# Y_train (training set using just the \"y\" variable, i.e., \"Futures Return\"), Y_test (test set of just the \"y\" variable):\n",
    "\n",
    "X_train = train[\"Lagged_Return\"].to_frame()\n",
    "X_test = test[\"Lagged_Return\"].to_frame()\n",
    "y_train = train[\"Return\"]\n",
    "y_test = test[\"Return\"]"
   ]
  },
  {
   "cell_type": "code",
   "execution_count": 8,
   "metadata": {},
   "outputs": [
    {
     "data": {
      "text/html": [
       "<div>\n",
       "<style scoped>\n",
       "    .dataframe tbody tr th:only-of-type {\n",
       "        vertical-align: middle;\n",
       "    }\n",
       "\n",
       "    .dataframe tbody tr th {\n",
       "        vertical-align: top;\n",
       "    }\n",
       "\n",
       "    .dataframe thead th {\n",
       "        text-align: right;\n",
       "    }\n",
       "</style>\n",
       "<table border=\"1\" class=\"dataframe\">\n",
       "  <thead>\n",
       "    <tr style=\"text-align: right;\">\n",
       "      <th></th>\n",
       "      <th>Lagged_Return</th>\n",
       "    </tr>\n",
       "    <tr>\n",
       "      <th>Date</th>\n",
       "      <th></th>\n",
       "    </tr>\n",
       "  </thead>\n",
       "  <tbody>\n",
       "    <tr>\n",
       "      <th>1990-01-04</th>\n",
       "      <td>-0.846720</td>\n",
       "    </tr>\n",
       "    <tr>\n",
       "      <th>1990-01-05</th>\n",
       "      <td>-1.468476</td>\n",
       "    </tr>\n",
       "    <tr>\n",
       "      <th>1990-01-08</th>\n",
       "      <td>0.874777</td>\n",
       "    </tr>\n",
       "    <tr>\n",
       "      <th>1990-01-09</th>\n",
       "      <td>-0.216798</td>\n",
       "    </tr>\n",
       "    <tr>\n",
       "      <th>1990-01-10</th>\n",
       "      <td>0.667901</td>\n",
       "    </tr>\n",
       "  </tbody>\n",
       "</table>\n",
       "</div>"
      ],
      "text/plain": [
       "            Lagged_Return\n",
       "Date                     \n",
       "1990-01-04      -0.846720\n",
       "1990-01-05      -1.468476\n",
       "1990-01-08       0.874777\n",
       "1990-01-09      -0.216798\n",
       "1990-01-10       0.667901"
      ]
     },
     "execution_count": 8,
     "metadata": {},
     "output_type": "execute_result"
    }
   ],
   "source": [
    "# Preview the X_train data\n",
    "X_train.head()"
   ]
  },
  {
   "cell_type": "markdown",
   "metadata": {},
   "source": [
    "# Linear Regression Model"
   ]
  },
  {
   "cell_type": "code",
   "execution_count": 9,
   "metadata": {},
   "outputs": [
    {
     "data": {
      "text/plain": [
       "LinearRegression()"
      ]
     },
     "execution_count": 9,
     "metadata": {},
     "output_type": "execute_result"
    }
   ],
   "source": [
    "# Create a Linear Regression model and fit it to the training data\n",
    "from sklearn.linear_model import LinearRegression\n",
    "\n",
    "# Fit a SKLearn linear regression using  just the training set (X_train, Y_train):\n",
    "model = LinearRegression()\n",
    "model.fit(X_train, y_train)"
   ]
  },
  {
   "cell_type": "markdown",
   "metadata": {},
   "source": [
    "# Make predictions using the Testing Data\n",
    "\n",
    "**Note:** We want to evaluate the model using data that it has never seen before, in this case: `X_test`."
   ]
  },
  {
   "cell_type": "code",
   "execution_count": 10,
   "metadata": {},
   "outputs": [
    {
     "data": {
      "text/plain": [
       "array([ 5.43439180e-03, -7.31683532e-03,  3.40452844e-04, -1.35792610e-03,\n",
       "       -1.63655340e-02, -2.44367146e-02,  1.15651714e-03,  1.73492439e-02,\n",
       "        4.33531968e-02, -2.79188355e-03, -8.79669862e-03,  4.62791859e-03,\n",
       "        2.06877900e-03, -1.88146406e-02, -1.64302023e-03,  2.10835730e-02,\n",
       "       -1.39707968e-02,  7.47924365e-03,  1.03690828e-02,  1.22438303e-03,\n",
       "        3.63516057e-04, -1.07473155e-03,  2.37901706e-03, -1.49085240e-02,\n",
       "       -1.59802126e-02,  1.54536828e-02,  4.45325041e-02, -2.15202592e-02,\n",
       "        2.03666349e-02,  1.93801985e-02, -7.55558060e-03,  1.56978180e-03,\n",
       "        2.18682555e-02, -2.55883242e-03,  1.76140270e-02,  1.02813536e-02,\n",
       "       -6.77825725e-03, -1.07473155e-03, -4.75704639e-04,  2.31915773e-02,\n",
       "       -1.92230440e-02,  7.93509179e-03,  8.26853966e-03,  2.55459614e-02,\n",
       "        1.08479501e-02,  1.85829065e-02,  4.80661690e-03, -1.65878612e-02,\n",
       "        6.94315856e-03, -7.26185707e-03, -3.19352362e-02,  1.41704170e-02,\n",
       "        1.91702958e-02,  2.63573731e-03,  1.78143938e-02,  1.60839666e-02,\n",
       "       -7.67076398e-03, -1.26662308e-02, -2.32168975e-02,  2.52045592e-02,\n",
       "        2.67404598e-03, -2.76677952e-02,  8.83311073e-03, -2.96712519e-02,\n",
       "        1.69162962e-03,  4.46401917e-03,  1.15688644e-02, -3.88852281e-02,\n",
       "       -1.29845207e-02, -1.96159826e-02,  1.67287350e-02, -1.44455507e-02,\n",
       "       -3.06993479e-02,  4.00502507e-03, -1.33504434e-02,  4.58666964e-03,\n",
       "       -5.25560292e-03, -1.96916128e-03,  9.65464954e-03,  4.61200328e-03,\n",
       "        9.12435019e-03, -7.70072581e-03, -6.48190339e-03, -1.33649212e-02,\n",
       "        6.38322375e-03, -2.57071222e-03, -4.66297319e-03, -1.30186750e-02,\n",
       "        6.65251942e-03,  6.67608364e-03,  7.19389276e-04,  6.40605243e-03,\n",
       "        1.15300847e-02, -3.45534902e-02, -1.03030996e-02,  3.96767828e-03,\n",
       "       -3.15514527e-03, -4.93519715e-03, -1.91617522e-02, -6.07975990e-03,\n",
       "        1.44985137e-02, -2.70916052e-02,  9.16804229e-03,  2.00813753e-02,\n",
       "        2.76664789e-02,  1.33103900e-02,  2.24062275e-03,  1.91451649e-02,\n",
       "       -3.27125294e-02,  1.72539055e-02, -2.01418051e-02, -1.09878799e-02,\n",
       "        7.60297787e-03, -1.57872994e-02,  1.56428613e-02, -6.18331629e-03,\n",
       "       -2.27434035e-03, -1.67425299e-03, -5.86977206e-03,  1.50780568e-02,\n",
       "        1.69876005e-02,  1.35081651e-03,  2.65422327e-02, -2.91563292e-03,\n",
       "        7.81651861e-03, -8.76650967e-03,  7.82081078e-03, -4.76857361e-03,\n",
       "       -1.52611157e-04, -2.44435930e-02, -2.72775270e-02,  4.35361218e-03,\n",
       "       -3.19027235e-03,  2.24692496e-03, -6.21491829e-03, -7.41155862e-03,\n",
       "       -4.68677015e-03, -4.08049215e-03, -6.17848890e-03, -2.35461847e-02,\n",
       "        4.86514030e-03, -4.64700303e-03, -3.45290339e-03, -4.63865465e-03,\n",
       "        2.71001530e-02, -1.75024939e-04,  4.62542805e-03, -1.37541428e-03,\n",
       "       -1.67083843e-02, -1.67234997e-03, -1.07473155e-03, -4.65959920e-03,\n",
       "       -2.55368249e-02,  1.88001289e-03,  4.54581688e-03,  1.00058610e-03,\n",
       "       -1.37144777e-03,  9.01244244e-03,  2.20176943e-03,  1.90775046e-03,\n",
       "        2.01257681e-02,  1.93637041e-03, -2.60965210e-02,  2.48972430e-02,\n",
       "       -2.28117330e-03, -1.01187518e-02,  6.43522934e-03, -8.60694813e-03,\n",
       "       -1.45926611e-02, -1.67234997e-03, -1.03356396e-02, -9.11140111e-03,\n",
       "       -1.08663669e-02, -1.73314956e-02,  2.94699647e-02,  8.43795585e-03,\n",
       "        8.77208090e-03,  8.81037728e-03, -4.38263297e-03,  9.43672902e-03,\n",
       "       -5.59835132e-03, -7.73692677e-04, -3.17843334e-02, -6.13189561e-03,\n",
       "       -1.59192074e-02,  3.05758715e-03,  5.42948686e-03, -2.65655444e-02,\n",
       "       -1.07589653e-02, -8.38342479e-03, -4.91712584e-04,  1.84103209e-03,\n",
       "       -5.45340014e-03,  1.75754581e-02, -1.16430108e-02, -3.46947205e-02,\n",
       "       -2.41572259e-02,  6.07362925e-03, -1.13974032e-02,  2.34852370e-02,\n",
       "        5.84608851e-03,  1.54070951e-02,  1.25360572e-03,  3.76693676e-02,\n",
       "       -6.10364330e-03, -3.14137089e-03,  2.76019477e-03, -2.35281790e-02,\n",
       "        6.53944638e-03,  2.21301710e-02, -6.41064022e-03, -6.99109831e-03,\n",
       "        4.23763271e-03, -2.84922852e-03, -1.07473155e-03,  1.75444874e-02,\n",
       "       -6.73149061e-03, -2.24632687e-02,  1.12977985e-02, -9.36343322e-03,\n",
       "       -7.56611367e-03, -4.86109229e-04, -4.01852488e-03, -5.19127438e-03,\n",
       "       -4.89105461e-03,  1.50470438e-02,  5.41514376e-03, -2.55347902e-03,\n",
       "        3.65450890e-03, -1.29198727e-02,  1.07154629e-02,  9.88202402e-03,\n",
       "        2.00414225e-02, -2.17679835e-02, -7.02433633e-03,  8.12561947e-03,\n",
       "       -1.26914168e-02,  3.07638795e-03, -3.45068028e-03,  5.45302535e-03,\n",
       "        1.90007085e-03, -2.46032085e-02,  3.13859474e-02,  7.29487831e-03,\n",
       "        1.48200852e-02, -1.34481010e-02, -4.74076656e-04, -3.17752059e-03,\n",
       "       -6.47743359e-03, -8.56256788e-03,  1.08706152e-02,  1.51276345e-02,\n",
       "        1.73453636e-02,  3.48786628e-03,  3.03114488e-02,  1.74370759e-02,\n",
       "        1.78836863e-02, -4.48472789e-04, -2.95765277e-02,  1.56508647e-02,\n",
       "        1.95030772e-02,  1.52704206e-02, -4.23837502e-03,  6.82454482e-03,\n",
       "        1.09696012e-02, -4.37490751e-02, -1.98671246e-02, -6.36016393e-03,\n",
       "       -1.43943766e-04, -2.00586031e-03,  1.71763179e-03,  1.16600256e-02,\n",
       "       -1.66831273e-02, -1.31749727e-02, -1.48354010e-04, -1.71377968e-02,\n",
       "        7.82725683e-03,  1.74079093e-02, -8.83224334e-03, -4.56018993e-04,\n",
       "       -2.42821016e-02,  1.18038049e-02, -1.50151275e-04, -1.58733992e-02,\n",
       "       -2.91385684e-03, -1.94526865e-02, -8.37314120e-03,  1.38187168e-04,\n",
       "        1.59142378e-02,  1.99989659e-02, -4.46239455e-03, -1.12241929e-02,\n",
       "       -1.63915398e-02, -9.60076396e-03,  1.83481884e-02, -1.02493357e-02,\n",
       "       -5.34081430e-03, -7.15892344e-03, -1.29105734e-02,  1.31228611e-02,\n",
       "       -1.89973560e-02,  7.35145856e-04,  5.86807567e-03, -1.25768757e-02,\n",
       "       -8.00519234e-03,  1.12459728e-02,  4.36070637e-03,  3.76712327e-03,\n",
       "        1.98456204e-02,  5.03946418e-03,  1.37684421e-03, -6.28935981e-03,\n",
       "       -1.20948643e-02, -5.64663075e-03, -8.37663577e-03,  4.68938305e-03,\n",
       "       -1.62539478e-04, -2.59559749e-03,  1.13889113e-02,  6.86799084e-03,\n",
       "        3.20215411e-02, -6.97404160e-03, -2.02805344e-02,  6.61146406e-03,\n",
       "        1.70069195e-03, -2.36111089e-02, -1.97409898e-02,  5.00073437e-03,\n",
       "       -3.20623965e-03, -2.29171558e-03,  1.96627248e-03, -8.68634859e-03,\n",
       "        9.24615936e-03,  7.54028136e-04, -3.81984621e-03, -2.14885373e-02,\n",
       "        6.78392588e-03, -2.89389258e-03, -4.40747476e-03,  7.39750567e-03,\n",
       "        3.47914655e-03, -1.05029721e-02,  1.55909711e-02,  4.11048504e-03,\n",
       "        1.05394465e-02, -5.98736003e-03, -1.38117851e-03, -1.02670323e-02,\n",
       "        1.08321964e-02,  1.99269684e-03, -1.68895851e-03,  1.12068397e-02,\n",
       "        1.58944253e-02,  3.27372211e-03,  6.39253592e-03, -1.73014842e-02,\n",
       "        2.55915756e-02, -1.07889229e-02, -5.44508236e-03, -2.94452397e-03,\n",
       "       -6.67998528e-03, -6.66765098e-03, -1.47162943e-02,  6.63477817e-03,\n",
       "        2.39800773e-02, -4.49935291e-04, -5.13690577e-03,  1.17162980e-02,\n",
       "       -1.07473155e-03, -5.15093746e-03,  3.24218585e-02, -1.12261890e-02,\n",
       "       -1.08698342e-02, -4.22231193e-03, -1.01914246e-02, -1.39177828e-02,\n",
       "       -6.99646694e-03, -1.41894074e-04,  1.10566080e-02, -1.38728334e-03,\n",
       "        1.11132895e-02, -1.07473155e-03, -5.15698076e-03, -1.17342628e-02,\n",
       "        4.86299755e-04,  5.17323100e-03, -8.90393055e-03, -1.07473155e-03,\n",
       "       -2.29291698e-02, -7.26562465e-03, -4.47144917e-03, -5.39205699e-03,\n",
       "        6.00598996e-03, -8.79266900e-03, -1.69029734e-03, -1.09213995e-02,\n",
       "       -4.44646126e-03,  2.29253123e-03, -1.07473155e-03, -2.60733596e-03,\n",
       "        3.82664710e-03,  2.30147698e-03, -1.07473155e-03, -1.68940414e-03,\n",
       "        9.98670002e-03, -4.46938706e-03,  6.63010404e-03, -7.25734201e-03,\n",
       "        2.31745273e-03, -7.86816680e-03, -1.07473155e-03, -4.46239455e-03,\n",
       "       -1.52053243e-04,  4.15567758e-03,  3.56136319e-02,  1.55047850e-02,\n",
       "        1.62433946e-02, -1.70880194e-03,  8.43395219e-03, -1.09372683e-02,\n",
       "        7.79893337e-03,  1.13283184e-02, -3.91055210e-02,  3.67102709e-02,\n",
       "       -7.78689131e-03, -1.44636929e-02,  2.73064013e-03,  6.86501344e-03,\n",
       "       -1.50924717e-02,  5.89569548e-03,  1.95763467e-02, -2.44574656e-02,\n",
       "        1.38426691e-02, -5.54444594e-03, -1.44603352e-02,  8.75335952e-03,\n",
       "        4.33578809e-03,  6.57994381e-03, -3.30655580e-02, -1.33960709e-02,\n",
       "       -1.14501829e-02, -9.52922476e-03, -1.16858341e-02,  4.79237129e-04,\n",
       "       -4.18457024e-03,  1.35236486e-02, -1.13838697e-02,  4.80949177e-04,\n",
       "       -7.63404847e-04,  4.84120036e-03,  9.22427980e-03, -1.34648511e-04,\n",
       "        5.82176150e-03, -1.27049360e-02, -2.63922198e-03, -7.32884366e-03,\n",
       "       -5.75380217e-03,  2.97301133e-03,  3.16707252e-02,  7.77135827e-03,\n",
       "       -5.51322428e-03, -1.05692073e-02,  6.80788588e-03, -8.98187180e-03,\n",
       "       -2.06236228e-02, -2.95484575e-02,  5.73276366e-03, -1.81391742e-02,\n",
       "        1.39081584e-03, -1.12549899e-02,  2.30515032e-03, -1.27662343e-02,\n",
       "        2.90667888e-03, -1.05837596e-02,  1.37006457e-03, -5.05135029e-03,\n",
       "       -8.71012918e-03,  7.14679971e-03,  1.35887559e-02,  1.85900357e-02,\n",
       "       -9.74514975e-03, -7.24683248e-03, -1.36968873e-02,  8.11535341e-03,\n",
       "       -9.68327063e-03,  9.34320933e-03,  4.77101983e-03,  1.58790009e-04,\n",
       "        6.94705169e-03,  7.59146336e-03, -1.38079326e-02, -2.00178486e-03,\n",
       "        1.34438082e-02,  4.20682447e-03, -5.43330532e-03,  1.72241207e-03,\n",
       "       -7.29745443e-03, -9.76526672e-03, -1.06636090e-02, -7.66575488e-04,\n",
       "       -1.38292497e-03,  1.61820077e-02,  5.75104551e-03, -2.50292823e-02,\n",
       "       -3.54027893e-03,  1.83226377e-02, -3.55683229e-03, -6.96396961e-03,\n",
       "       -7.87808543e-03, -1.64956220e-02, -5.67309935e-03, -7.50082045e-03,\n",
       "        1.36712859e-03, -1.11570910e-02,  5.01164576e-03,  1.36566323e-03,\n",
       "       -4.64046499e-04,  2.89567522e-03, -1.07473155e-03, -1.51458440e-02,\n",
       "       -4.72524668e-03,  9.25356050e-03, -1.11401520e-02, -2.28996997e-03,\n",
       "        1.35458378e-03,  1.35151053e-02, -1.48316719e-02,  5.61467695e-03,\n",
       "       -1.08304563e-02, -7.45244626e-03, -4.68850458e-04, -1.07711404e-02,\n",
       "       -1.67845391e-03, -2.58367904e-03, -7.10694031e-03,  3.13781685e-03,\n",
       "       -4.39008584e-03,  9.76138426e-03,  1.28307006e-02,  5.00436715e-03,\n",
       "        7.45641118e-03,  1.75735654e-02, -1.46253836e-02,  1.05660427e-02,\n",
       "        1.69497913e-03,  1.77182310e-02,  1.40827851e-03, -2.31329949e-02,\n",
       "       -6.31084519e-03, -4.45583964e-03,  9.97601264e-03, -7.66425970e-04,\n",
       "       -6.93324812e-03, -1.52258903e-02,  8.40911608e-03, -2.30303705e-03,\n",
       "       -7.82714860e-03,  3.51699042e-03, -4.27816908e-02, -1.07297027e-02,\n",
       "        4.93678966e-03,  3.11631554e-02,  7.77488591e-03,  4.13110096e-03,\n",
       "        2.93038083e-02,  3.52614764e-02, -2.09241531e-02,  3.86291107e-02,\n",
       "       -1.06024255e-02,  3.56281011e-02,  2.20401256e-02,  1.20744052e-01,\n",
       "       -7.90025260e-02,  3.49141171e-02,  2.33740753e-02, -1.03201487e-01,\n",
       "        8.54032078e-02, -1.15079686e-02,  3.27784648e-02, -5.10113342e-02,\n",
       "       -2.93932594e-02,  1.30932565e-02, -7.70143253e-03, -4.89933792e-02,\n",
       "        4.43935852e-03,  3.17566775e-02,  3.41622229e-02, -1.37647203e-02,\n",
       "        3.18217837e-02, -2.90162821e-02, -2.40666979e-03, -3.53541776e-02,\n",
       "       -1.05977889e-02,  2.33890498e-04, -9.27594281e-05, -4.02178649e-03,\n",
       "        5.46669469e-03,  8.10689567e-03,  3.44685140e-02, -1.84308577e-02,\n",
       "       -5.71584232e-03,  2.37430444e-02,  6.27693367e-03, -9.11799472e-03,\n",
       "       -1.37697242e-02,  6.57089189e-03, -7.74315910e-03,  1.25311068e-03,\n",
       "       -1.83831261e-02, -7.44129157e-04,  3.09978719e-02,  2.60884985e-03,\n",
       "       -4.42830215e-03,  2.73930572e-02, -3.59617425e-02, -1.84491105e-02,\n",
       "       -1.13622111e-02,  2.53665810e-02,  5.60508754e-03, -1.58090571e-02,\n",
       "        1.49064337e-02, -3.96052066e-02, -8.99579477e-03, -4.36492075e-03,\n",
       "        6.48292027e-03,  6.83503349e-03, -5.37256260e-03, -3.53993389e-02,\n",
       "       -9.86718785e-03,  1.84598353e-03, -3.02411503e-03, -3.28902602e-02,\n",
       "       -3.73064512e-02, -1.05585792e-02])"
      ]
     },
     "execution_count": 10,
     "metadata": {},
     "output_type": "execute_result"
    }
   ],
   "source": [
    "# Make a prediction of \"y\" values using just the test dataset\n",
    "predictions = model.predict(X_test)\n",
    "predictions"
   ]
  },
  {
   "cell_type": "code",
   "execution_count": 11,
   "metadata": {},
   "outputs": [],
   "source": [
    "# Assemble actual y data (Y_test) with predicted y data (from just above) into two columns in a dataframe:\n",
    "Results = y_test.to_frame()\n",
    "Results[\"Predicted Return\"] = predictions"
   ]
  },
  {
   "cell_type": "code",
   "execution_count": 12,
   "metadata": {},
   "outputs": [
    {
     "data": {
      "text/plain": [
       "array([<matplotlib.axes._subplots.AxesSubplot object at 0x000001904FBA9D88>,\n",
       "       <matplotlib.axes._subplots.AxesSubplot object at 0x000001904FBF6988>],\n",
       "      dtype=object)"
      ]
     },
     "execution_count": 12,
     "metadata": {},
     "output_type": "execute_result"
    },
    {
     "data": {
      "image/png": "[encoded data removed]",
      "text/plain": [
       "<Figure size 432x288 with 2 Axes>"
      ]
     },
     "metadata": {
      "needs_background": "light"
     },
     "output_type": "display_data"
    }
   ],
   "source": [
    "# Plot the first 20 predictions vs the true values\n",
    "Results[:20].plot(subplots=True)"
   ]
  },
  {
   "cell_type": "markdown",
   "metadata": {},
   "source": [
    "# Out-of-Sample Performance\n",
    "\n",
    "Evaluate the model using \"out-of-sample\" data (`X_test` and `y_test`)"
   ]
  },
  {
   "cell_type": "code",
   "execution_count": 13,
   "metadata": {},
   "outputs": [
    {
     "name": "stdout",
     "output_type": "stream",
     "text": [
      "Out-of-Sample Root Mean Squared Error (RMSE): 0.6445805658569028\n"
     ]
    }
   ],
   "source": [
    "from sklearn.metrics import mean_squared_error\n",
    "# Calculate the mean_squared_error (MSE) on actual versus predicted test \"y\" \n",
    "# (Hint: use the dataframe from above)\n",
    "mse = mean_squared_error(\n",
    "    Results[\"Return\"],\n",
    "    Results[\"Predicted Return\"]\n",
    ")\n",
    "\n",
    "# Using that mean-squared-error, calculate the root-mean-squared error (RMSE):\n",
    "rmse = np.sqrt(mse)\n",
    "print(f\"Out-of-Sample Root Mean Squared Error (RMSE): {rmse}\")"
   ]
  },
  {
   "cell_type": "markdown",
   "metadata": {},
   "source": [
    "# In-Sample Performance\n",
    "\n",
    "Evaluate the model using in-sample data (X_train and y_train)"
   ]
  },
  {
   "cell_type": "code",
   "execution_count": 14,
   "metadata": {},
   "outputs": [
    {
     "name": "stdout",
     "output_type": "stream",
     "text": [
      "In-sample Root Mean Squared Error (RMSE): 0.841994632894117\n"
     ]
    }
   ],
   "source": [
    "# Construct a dataframe using just the \"y\" training data:\n",
    "in_sample_results = y_train.to_frame()\n",
    "\n",
    "# Add a column of \"in-sample\" predictions to that dataframe:  \n",
    "in_sample_results[\"In-sample Predictions\"] = model.predict(X_train)\n",
    "\n",
    "# Calculate in-sample mean_squared_error (for comparison to out-of-sample)\n",
    "in_sample_mse = mean_squared_error(\n",
    "    in_sample_results[\"Return\"],\n",
    "    in_sample_results[\"In-sample Predictions\"]\n",
    ")\n",
    "\n",
    "# Calculate in-sample root mean_squared_error (for comparison to out-of-sample)\n",
    "in_sample_rmse = np.sqrt(in_sample_mse)\n",
    "print(f\"In-sample Root Mean Squared Error (RMSE): {in_sample_rmse}\")"
   ]
  },
  {
   "cell_type": "markdown",
   "metadata": {},
   "source": [
    "# Conclusions"
   ]
  },
  {
   "cell_type": "markdown",
   "metadata": {},
   "source": [
    "**Question:** Does this model perform better or worse on out-of-sample data as compared to in-sample data?\n",
    "\n",
    "**Answer:** The model performs much better on out-of-sample data as compared to to In-Sample data. Out-Of-Sample RMSE has less errors than the other."
   ]
  },
  {
   "cell_type": "code",
   "execution_count": null,
   "metadata": {},
   "outputs": [],
   "source": []
  }
 ],
 "metadata": {
  "file_extension": ".py",
  "kernelspec": {
   "display_name": "pyvizenv",
   "language": "python",
   "name": "pyvizenv"
  },
  "language_info": {
   "codemirror_mode": {
    "name": "ipython",
    "version": 3
   },
   "file_extension": ".py",
   "mimetype": "text/x-python",
   "name": "python",
   "nbconvert_exporter": "python",
   "pygments_lexer": "ipython3",
   "version": "3.7.10"
  },
  "mimetype": "text/x-python",
  "name": "python",
  "npconvert_exporter": "python",
  "pygments_lexer": "ipython3",
  "version": 3
 },
 "nbformat": 4,
 "nbformat_minor": 4
}
